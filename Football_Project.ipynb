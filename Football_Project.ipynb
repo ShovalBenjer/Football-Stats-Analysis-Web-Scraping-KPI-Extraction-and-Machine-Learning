{
  "nbformat": 4,
  "nbformat_minor": 0,
  "metadata": {
    "colab": {
      "provenance": [],
      "authorship_tag": "ABX9TyP58jOE9NknVmroaaY8/mTK",
      "include_colab_link": true
    },
    "kernelspec": {
      "name": "python3",
      "display_name": "Python 3"
    },
    "language_info": {
      "name": "python"
    }
  },
  "cells": [
    {
      "cell_type": "markdown",
      "metadata": {
        "id": "view-in-github",
        "colab_type": "text"
      },
      "source": [
        "<a href=\"https://colab.research.google.com/github/ShovalBenjer/Football-Stats-Analysis-Web-Scraping-KPI-Extraction-and-Machine-Learning/blob/main/Football_Project.ipynb\" target=\"_parent\"><img src=\"https://colab.research.google.com/assets/colab-badge.svg\" alt=\"Open In Colab\"/></a>"
      ]
    },
    {
      "cell_type": "code",
      "source": [
        "pip install opencv-python opencv-python-headless"
      ],
      "metadata": {
        "colab": {
          "base_uri": "https://localhost:8080/"
        },
        "id": "XjHaTBHBxlnv",
        "outputId": "7327c272-047f-4b0d-e0b1-6a13744e333d"
      },
      "execution_count": 2,
      "outputs": [
        {
          "output_type": "stream",
          "name": "stdout",
          "text": [
            "Requirement already satisfied: opencv-python in /usr/local/lib/python3.10/dist-packages (4.10.0.84)\n",
            "Requirement already satisfied: opencv-python-headless in /usr/local/lib/python3.10/dist-packages (4.10.0.84)\n",
            "Requirement already satisfied: numpy>=1.21.2 in /usr/local/lib/python3.10/dist-packages (from opencv-python) (1.26.4)\n"
          ]
        }
      ]
    },
    {
      "cell_type": "code",
      "source": [],
      "metadata": {
        "id": "Hlo8acAp80F4"
      },
      "execution_count": null,
      "outputs": []
    },
    {
      "cell_type": "code",
      "source": [
        "import cv2\n",
        "import numpy as np\n",
        "import os\n",
        "\n",
        "# Paths\n",
        "video_path = r\"C:\\Users\\shova\\Downloads\\משחק האירופאיות _ המשחק המלא_ מכבי חיפה - הפועל ב_ש 0-3.mp4\"\n",
        "yolo_weights = r\"path_to_yolov3.weights\"\n",
        "yolo_config = r\"path_to_yolov3.cfg\"\n",
        "coco_names = r\"path_to_coco.names\"\n",
        "\n",
        "# Load YOLO\n",
        "net = cv2.dnn.readNet(yolo_weights, yolo_config)\n",
        "layer_names = net.getLayerNames()\n",
        "output_layers = [layer_names[i[0] - 1] for i in net.getUnconnectedOutLayers()]\n",
        "\n",
        "# Load COCO class names\n",
        "with open(coco_names, 'r') as f:\n",
        "    classes = [line.strip() for line in f.readlines()]\n",
        "\n",
        "# Function to check aspect ratio\n",
        "def is_standard_aspect_ratio(frame, expected_ratio=16/9, tolerance=0.1):\n",
        "    height, width, _ = frame.shape\n",
        "    aspect_ratio = width / height\n",
        "    return abs(aspect_ratio - expected_ratio) < tolerance\n",
        "\n",
        "# Function to detect objects\n",
        "def detect_objects(frame):\n",
        "    blob = cv2.dnn.blobFromImage(frame, 0.00392, (416, 416), (0, 0, 0), True, crop=False)\n",
        "    net.setInput(blob)\n",
        "    detections = net.forward(output_layers)\n",
        "\n",
        "    objects_detected = []\n",
        "    height, width, _ = frame.shape\n",
        "\n",
        "    for detection in detections:\n",
        "        for object_detected in detection:\n",
        "            scores = object_detected[5:]\n",
        "            class_id = int(np.argmax(scores))\n",
        "            confidence = scores[class_id]\n",
        "            if confidence > 0.5:  # Confidence threshold\n",
        "                center_x = int(object_detected[0] * width)\n",
        "                center_y = int(object_detected[1] * height)\n",
        "                w = int(object_detected[2] * width)\n",
        "                h = int(object_detected[3] * height)\n",
        "\n",
        "                x = int(center_x - w / 2)\n",
        "                y = int(center_y - h / 2)\n",
        "\n",
        "                objects_detected.append({\n",
        "                    \"class_id\": class_id,\n",
        "                    \"label\": classes[class_id],\n",
        "                    \"confidence\": float(confidence),\n",
        "                    \"box\": [x, y, w, h]\n",
        "                })\n",
        "\n",
        "                # Draw bounding box (optional)\n",
        "                cv2.rectangle(frame, (x, y), (x + w, y + h), (0, 255, 0), 2)\n",
        "                cv2.putText(frame, f\"{classes[class_id]}: {confidence:.2f}\", (x, y - 10), cv2.FONT_HERSHEY_SIMPLEX, 0.5, (0, 255, 0), 2)\n",
        "\n",
        "    return frame, objects_detected\n",
        "\n",
        "# Video processing and filtering pipeline\n",
        "def process_video(video_path):\n",
        "    cap = cv2.VideoCapture(video_path)\n",
        "    frame_count = 0\n",
        "    saved_frames = 0\n",
        "\n",
        "    while cap.isOpened():\n",
        "        ret, frame = cap.read()\n",
        "        if not ret:\n",
        "            break\n",
        "\n",
        "        frame_count += 1\n",
        "\n",
        "        if not is_standard_aspect_ratio(frame):\n",
        "            continue\n",
        "\n",
        "        processed_frame, detections = detect_objects(frame)\n",
        "\n",
        "        # Filter based on detections\n",
        "        if len(detections) > 0:\n",
        "            # Save or further process the frame\n",
        "            saved_frames += 1\n",
        "            cv2.imshow(\"Frame\", processed_frame)\n",
        "            key = cv2.waitKey(1)\n",
        "            if key == ord('q'):  # Press 'q' to quit early\n",
        "                break\n",
        "\n",
        "        if frame_count > 100:  # Process only first 100 frames for PoC\n",
        "            break\n",
        "\n",
        "    cap.release()\n",
        "    cv2.destroyAllWindows()\n",
        "    print(f\"Processed {frame_count} frames, saved {saved_frames} relevant frames.\")\n",
        "\n",
        "# Run the PoC\n",
        "process_video(video_path)\n"
      ],
      "metadata": {
        "colab": {
          "base_uri": "https://localhost:8080/",
          "height": 228
        },
        "id": "VHCa99wd1Ymg",
        "outputId": "9d2a68b0-4773-47bb-bd68-2c14e4ade01c"
      },
      "execution_count": 3,
      "outputs": [
        {
          "output_type": "error",
          "ename": "error",
          "evalue": "OpenCV(4.10.0) /io/opencv/modules/dnn/src/darknet/darknet_importer.cpp:210: error: (-212:Parsing error) Failed to open NetParameter file: path_to_yolov3.cfg in function 'readNetFromDarknet'\n",
          "traceback": [
            "\u001b[0;31m---------------------------------------------------------------------------\u001b[0m",
            "\u001b[0;31merror\u001b[0m                                     Traceback (most recent call last)",
            "\u001b[0;32m<ipython-input-3-99320e17d13f>\u001b[0m in \u001b[0;36m<cell line: 12>\u001b[0;34m()\u001b[0m\n\u001b[1;32m     10\u001b[0m \u001b[0;34m\u001b[0m\u001b[0m\n\u001b[1;32m     11\u001b[0m \u001b[0;31m# Load YOLO\u001b[0m\u001b[0;34m\u001b[0m\u001b[0;34m\u001b[0m\u001b[0m\n\u001b[0;32m---> 12\u001b[0;31m \u001b[0mnet\u001b[0m \u001b[0;34m=\u001b[0m \u001b[0mcv2\u001b[0m\u001b[0;34m.\u001b[0m\u001b[0mdnn\u001b[0m\u001b[0;34m.\u001b[0m\u001b[0mreadNet\u001b[0m\u001b[0;34m(\u001b[0m\u001b[0myolo_weights\u001b[0m\u001b[0;34m,\u001b[0m \u001b[0myolo_config\u001b[0m\u001b[0;34m)\u001b[0m\u001b[0;34m\u001b[0m\u001b[0;34m\u001b[0m\u001b[0m\n\u001b[0m\u001b[1;32m     13\u001b[0m \u001b[0mlayer_names\u001b[0m \u001b[0;34m=\u001b[0m \u001b[0mnet\u001b[0m\u001b[0;34m.\u001b[0m\u001b[0mgetLayerNames\u001b[0m\u001b[0;34m(\u001b[0m\u001b[0;34m)\u001b[0m\u001b[0;34m\u001b[0m\u001b[0;34m\u001b[0m\u001b[0m\n\u001b[1;32m     14\u001b[0m \u001b[0moutput_layers\u001b[0m \u001b[0;34m=\u001b[0m \u001b[0;34m[\u001b[0m\u001b[0mlayer_names\u001b[0m\u001b[0;34m[\u001b[0m\u001b[0mi\u001b[0m\u001b[0;34m[\u001b[0m\u001b[0;36m0\u001b[0m\u001b[0;34m]\u001b[0m \u001b[0;34m-\u001b[0m \u001b[0;36m1\u001b[0m\u001b[0;34m]\u001b[0m \u001b[0;32mfor\u001b[0m \u001b[0mi\u001b[0m \u001b[0;32min\u001b[0m \u001b[0mnet\u001b[0m\u001b[0;34m.\u001b[0m\u001b[0mgetUnconnectedOutLayers\u001b[0m\u001b[0;34m(\u001b[0m\u001b[0;34m)\u001b[0m\u001b[0;34m]\u001b[0m\u001b[0;34m\u001b[0m\u001b[0;34m\u001b[0m\u001b[0m\n",
            "\u001b[0;31merror\u001b[0m: OpenCV(4.10.0) /io/opencv/modules/dnn/src/darknet/darknet_importer.cpp:210: error: (-212:Parsing error) Failed to open NetParameter file: path_to_yolov3.cfg in function 'readNetFromDarknet'\n"
          ]
        }
      ]
    }
  ]
}