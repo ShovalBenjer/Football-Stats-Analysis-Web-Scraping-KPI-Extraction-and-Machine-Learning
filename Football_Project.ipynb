{
  "nbformat": 4,
  "nbformat_minor": 0,
  "metadata": {
    "colab": {
      "provenance": [],
      "authorship_tag": "ABX9TyMhDssktZLE1J4qBPVtz/0s",
      "include_colab_link": true
    },
    "kernelspec": {
      "name": "python3",
      "display_name": "Python 3"
    },
    "language_info": {
      "name": "python"
    }
  },
  "cells": [
    {
      "cell_type": "markdown",
      "metadata": {
        "id": "view-in-github",
        "colab_type": "text"
      },
      "source": [
        "<a href=\"https://colab.research.google.com/github/ShovalBenjer/Football-Stats-Analysis-Web-Scraping-KPI-Extraction-and-Machine-Learning/blob/main/Football_Project.ipynb\" target=\"_parent\"><img src=\"https://colab.research.google.com/assets/colab-badge.svg\" alt=\"Open In Colab\"/></a>"
      ]
    },
    {
      "cell_type": "code",
      "source": [
        "pip install opencv-python opencv-python-headless\n"
      ],
      "metadata": {
        "colab": {
          "base_uri": "https://localhost:8080/"
        },
        "id": "XjHaTBHBxlnv",
        "outputId": "d41d5f7c-f7a9-4e19-cc34-dc623bd9956e"
      },
      "execution_count": 2,
      "outputs": [
        {
          "output_type": "stream",
          "name": "stdout",
          "text": [
            "Requirement already satisfied: opencv-python in /usr/local/lib/python3.10/dist-packages (4.10.0.84)\n",
            "Requirement already satisfied: opencv-python-headless in /usr/local/lib/python3.10/dist-packages (4.10.0.84)\n",
            "Requirement already satisfied: numpy>=1.21.2 in /usr/local/lib/python3.10/dist-packages (from opencv-python) (1.26.4)\n"
          ]
        }
      ]
    },
    {
      "cell_type": "code",
      "source": [
        "from google.colab.patches import cv2_imshow\n",
        "from google.colab import drive\n",
        "import cv2\n",
        "import numpy as np\n",
        "import os"
      ],
      "metadata": {
        "id": "76FzKSD_EQP6"
      },
      "execution_count": 3,
      "outputs": []
    },
    {
      "cell_type": "code",
      "source": [
        "!gdown --id 1cRN-Q46hjOLikgRYo-isn-R-8KfoktPS -O coco.names\n",
        "!gdown --id 1_KLvH9xwYTBhjaXQGkSlvCSdnRBb72aT -O yolov3.cfg\n",
        "!gdown --id 1LY5x_AodQSe_PSgmMivNy0Qv_WTr4loh -O yolov3.weights\n"
      ],
      "metadata": {
        "colab": {
          "base_uri": "https://localhost:8080/"
        },
        "id": "QEvMlLjy-jAG",
        "outputId": "043b5567-38d4-4810-c1a9-c70437e783ef"
      },
      "execution_count": 4,
      "outputs": [
        {
          "output_type": "stream",
          "name": "stdout",
          "text": [
            "/usr/local/lib/python3.10/dist-packages/gdown/__main__.py:132: FutureWarning: Option `--id` was deprecated in version 4.3.1 and will be removed in 5.0. You don't need to pass it anymore to use a file ID.\n",
            "  warnings.warn(\n",
            "Downloading...\n",
            "From: https://drive.google.com/uc?id=1cRN-Q46hjOLikgRYo-isn-R-8KfoktPS\n",
            "To: /content/coco.names\n",
            "100% 625/625 [00:00<00:00, 1.58MB/s]\n",
            "/usr/local/lib/python3.10/dist-packages/gdown/__main__.py:132: FutureWarning: Option `--id` was deprecated in version 4.3.1 and will be removed in 5.0. You don't need to pass it anymore to use a file ID.\n",
            "  warnings.warn(\n",
            "Downloading...\n",
            "From: https://drive.google.com/uc?id=1_KLvH9xwYTBhjaXQGkSlvCSdnRBb72aT\n",
            "To: /content/yolov3.cfg\n",
            "100% 8.34k/8.34k [00:00<00:00, 19.0MB/s]\n",
            "/usr/local/lib/python3.10/dist-packages/gdown/__main__.py:132: FutureWarning: Option `--id` was deprecated in version 4.3.1 and will be removed in 5.0. You don't need to pass it anymore to use a file ID.\n",
            "  warnings.warn(\n",
            "Downloading...\n",
            "From (original): https://drive.google.com/uc?id=1LY5x_AodQSe_PSgmMivNy0Qv_WTr4loh\n",
            "From (redirected): https://drive.google.com/uc?id=1LY5x_AodQSe_PSgmMivNy0Qv_WTr4loh&confirm=t&uuid=b045e56b-3dfe-4eb0-9688-fe9df8dc0b57\n",
            "To: /content/yolov3.weights\n",
            "100% 248M/248M [00:01<00:00, 131MB/s]\n"
          ]
        }
      ]
    },
    {
      "cell_type": "code",
      "source": [
        "# Step 1: Mount Google Drive\n",
        "drive.mount('/content/drive')"
      ],
      "metadata": {
        "colab": {
          "base_uri": "https://localhost:8080/"
        },
        "id": "Of-XkwTJBLZN",
        "outputId": "c1892d45-9e2e-4a17-bbfe-d9513dbf6075"
      },
      "execution_count": 5,
      "outputs": [
        {
          "output_type": "stream",
          "name": "stdout",
          "text": [
            "Mounted at /content/drive\n"
          ]
        }
      ]
    },
    {
      "cell_type": "code",
      "source": [
        "# Step 2: Set file paths\n",
        "# Update these paths to point to the correct locations in your Google Drive\n",
        "yolo_weights = 'yolov3.weights'\n",
        "yolo_config = 'yolov3.cfg'\n",
        "coco_names = 'coco.names'\n",
        "video_path = '/content/your_video_file.mp4'  # Update this to the correct path if necessary"
      ],
      "metadata": {
        "id": "extyulW3BN-A"
      },
      "execution_count": 6,
      "outputs": []
    },
    {
      "cell_type": "code",
      "source": [
        "from google.colab import drive\n",
        "import os\n",
        "\n",
        "# Mount Google Drive\n",
        "drive.mount('/content/drive')\n",
        "\n",
        "# Set the file path to your video file\n",
        "# You will need to get the correct path after mounting\n",
        "video_path = '/content/drive/My Drive/path_to_your_video_file.mp4'\n",
        "\n",
        "# Download the file directly from the provided link\n",
        "!gdown --id 1QKGKQvt1skjhSoGZUxAa5WJA0SMNfthv -O /content/your_video_file.mp4\n",
        "\n",
        "# Update the video path\n",
        "video_path = '/content/your_video_file.mp4'\n",
        "\n",
        "print(f\"File is available at: {video_path}\")\n",
        "\n",
        "# Now you can proceed with your video processing as planned\n"
      ],
      "metadata": {
        "colab": {
          "base_uri": "https://localhost:8080/"
        },
        "id": "NlgzVjpICIJ9",
        "outputId": "77f448de-0bfe-4469-d39a-4beb5a48520d"
      },
      "execution_count": null,
      "outputs": [
        {
          "output_type": "stream",
          "name": "stdout",
          "text": [
            "Drive already mounted at /content/drive; to attempt to forcibly remount, call drive.mount(\"/content/drive\", force_remount=True).\n",
            "/usr/local/lib/python3.10/dist-packages/gdown/__main__.py:132: FutureWarning: Option `--id` was deprecated in version 4.3.1 and will be removed in 5.0. You don't need to pass it anymore to use a file ID.\n",
            "  warnings.warn(\n",
            "Downloading...\n",
            "From (original): https://drive.google.com/uc?id=1QKGKQvt1skjhSoGZUxAa5WJA0SMNfthv\n",
            "From (redirected): https://drive.google.com/uc?id=1QKGKQvt1skjhSoGZUxAa5WJA0SMNfthv&confirm=t&uuid=3a833e1e-ccae-4f05-9e96-6b0c86e658dd\n",
            "To: /content/your_video_file.mp4\n",
            " 83% 2.97G/3.57G [00:24<00:04, 137MB/s]"
          ]
        }
      ]
    },
    {
      "cell_type": "code",
      "source": [
        "# Load the YOLO model\n",
        "net = cv2.dnn.readNet(yolo_weights, yolo_config)\n",
        "layer_names = net.getLayerNames()\n",
        "\n",
        "# Since the output is a list of integers, you can access the layer names directly\n",
        "output_layers = [layer_names[i - 1] for i in net.getUnconnectedOutLayers()]\n",
        "\n",
        "# Load COCO class names\n",
        "with open(coco_names, 'r') as f:\n",
        "    classes = [line.strip() for line in f.readlines()]\n",
        "\n",
        "# Function to check aspect ratio\n",
        "def is_standard_aspect_ratio(frame, expected_ratio=16/9, tolerance=0.1):\n",
        "    height, width, _ = frame.shape\n",
        "    aspect_ratio = width / height\n",
        "    return abs(aspect_ratio - expected_ratio) < tolerance\n",
        "\n",
        "# Function to detect objects and check for the presence of a ball\n",
        "def detect_objects(frame):\n",
        "    blob = cv2.dnn.blobFromImage(frame, 0.00392, (416, 416), (0, 0, 0), True, crop=False)\n",
        "    net.setInput(blob)\n",
        "    detections = net.forward(output_layers)\n",
        "\n",
        "    objects_detected = []\n",
        "    height, width, _ = frame.shape\n",
        "    ball_detected = False\n",
        "\n",
        "    for detection in detections:\n",
        "        for object_detected in detection:\n",
        "            scores = object_detected[5:]\n",
        "            class_id = int(np.argmax(scores))\n",
        "            confidence = scores[class_id]\n",
        "            if confidence > 0.5:  # Confidence threshold\n",
        "                center_x = int(object_detected[0] * width)\n",
        "                center_y = int(object_detected[1] * height)\n",
        "                w = int(object_detected[2] * width)\n",
        "                h = int(object_detected[3] * height)\n",
        "\n",
        "                x = int(center_x - w / 2)\n",
        "                y = int(center_y - h / 2)\n",
        "\n",
        "                label = classes[class_id]\n",
        "\n",
        "                objects_detected.append({\n",
        "                    \"class_id\": class_id,\n",
        "                    \"label\": label,\n",
        "                    \"confidence\": float(confidence),\n",
        "                    \"box\": [x, y, w, h]\n",
        "                })\n",
        "\n",
        "                # Check if the object is a ball (class ID for ball in COCO dataset is typically 37)\n",
        "                if label == 'sports ball':\n",
        "                    ball_detected = True\n",
        "\n",
        "                # Draw bounding box (optional)\n",
        "                cv2.rectangle(frame, (x, y), (x + w, y + h), (0, 255, 0), 2)\n",
        "                cv2.putText(frame, f\"{label}: {confidence:.2f}\", (x, y - 10), cv2.FONT_HERSHEY_SIMPLEX, 0.5, (0, 255, 0), 2)\n",
        "\n",
        "    return frame, objects_detected, ball_detected\n",
        "\n",
        "# Video processing and filtering pipeline\n",
        "def process_video(video_path):\n",
        "    cap = cv2.VideoCapture(video_path)\n",
        "    frame_count = 0\n",
        "    saved_frames = 0\n",
        "\n",
        "    while cap.isOpened():\n",
        "        ret, frame = cap.read()\n",
        "        if not ret:\n",
        "            break\n",
        "\n",
        "        frame_count += 1\n",
        "\n",
        "        if not is_standard_aspect_ratio(frame):\n",
        "            continue\n",
        "\n",
        "        processed_frame, detections, ball_detected = detect_objects(frame)\n",
        "\n",
        "        # Skip frames that do not contain a ball\n",
        "        if not ball_detected:\n",
        "            continue\n",
        "\n",
        "        # Save or further process the frame\n",
        "        saved_frames += 1\n",
        "        cv2_imshow(processed_frame)  # Updated for Colab\n",
        "        key = cv2.waitKey(1)\n",
        "        if key == ord('q'):  # Press 'q' to quit early\n",
        "            break\n",
        "\n",
        "        if saved_frames >= 100:  # Process only first 100 relevant frames for PoC\n",
        "            break\n",
        "\n",
        "    cap.release()\n",
        "    cv2.destroyAllWindows()\n",
        "    print(f\"Processed {frame_count} frames, saved {saved_frames} relevant frames.\")\n",
        "\n",
        "# Run the PoC\n",
        "process_video(video_path)\n"
      ],
      "metadata": {
        "id": "c0Ad5J6uBGyM"
      },
      "execution_count": null,
      "outputs": []
    },
    {
      "cell_type": "code",
      "source": [
        "print(\"Unconnected OutLayers:\", net.getUnconnectedOutLayers())"
      ],
      "metadata": {
        "id": "buVwp7ReEAtZ"
      },
      "execution_count": null,
      "outputs": []
    }
  ]
}